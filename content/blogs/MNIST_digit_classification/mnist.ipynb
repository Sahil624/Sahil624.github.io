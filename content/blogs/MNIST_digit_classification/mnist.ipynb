{
 "cells": [
  {
   "cell_type": "markdown",
   "id": "40233b82-23a8-464e-b147-3fbebb0a82cf",
   "metadata": {},
   "source": [
    "# MNIST Digit Classification using PyTorch\n",
    "\n",
    "This project implements a **very basic neural network** to classify handwritten digits from the MNIST dataset using PyTorch. The model achieves 95% accuracy on the test set."
   ]
  },
  {
   "cell_type": "code",
   "execution_count": 1,
   "id": "517dcaa1-53bb-4c3e-9399-db3e78f5c579",
   "metadata": {},
   "outputs": [],
   "source": [
    "import torch\n",
    "from torch import nn\n",
    "from torchvision import datasets, transforms"
   ]
  },
  {
   "cell_type": "code",
   "execution_count": 16,
   "id": "fbc8a393-8915-4791-a70c-47ff4e3ddea4",
   "metadata": {},
   "outputs": [
    {
     "name": "stdout",
     "output_type": "stream",
     "text": [
      "Will be using: cuda\n"
     ]
    }
   ],
   "source": [
    "# Setup device agnostic code\n",
    "device = 'cuda' if torch.cuda.is_available() else 'cpu'\n",
    "print(\"Will be using:\", device)"
   ]
  },
  {
   "cell_type": "markdown",
   "id": "7dddb429-6f53-40c9-9026-87e80c20e28a",
   "metadata": {},
   "source": [
    "## Dataset Overview\n",
    "\n",
    "MNIST is like the \"Hello World\" of machine learning. It's a dataset of 70,000 handwritten digits that has been used to train and test machine learning models for decades. Each image is a 28×28 pixel grayscale picture of a single digit from 0 to 9.\n",
    "\n",
    "The dataset includes:\n",
    "- 60,000 training images\n",
    "- 10,000 test images\n",
    "- 28×28 pixel resolution\n",
    "- Grayscale format\n",
    "- 10 possible classes (digits 0-9)"
   ]
  },
  {
   "cell_type": "code",
   "execution_count": 15,
   "id": "17a79c79-63a9-4c1d-ab9e-c241a0be5e4e",
   "metadata": {},
   "outputs": [
    {
     "name": "stdout",
     "output_type": "stream",
     "text": [
      "Train Sample torch.Size([1, 28, 28]) 5 60000\n",
      "Test Sample torch.Size([1, 28, 28]) 7 10000\n"
     ]
    }
   ],
   "source": [
    "transform=transforms.Compose([\n",
    "        transforms.ToTensor(),\n",
    "])\n",
    "\n",
    "train_dataset = datasets.MNIST(root='./data', train=True, download=True, transform=transform)\n",
    "test_dataset = datasets.MNIST(root='./data', train=False, download=True, transform=transform)\n",
    "\n",
    "print(\"Train Sample\", train_dataset[0][0].shape, train_dataset[0][1], len(train_dataset))\n",
    "print(\"Test Sample\", test_dataset[0][0].shape, test_dataset[0][1], len(test_dataset))\n",
    "\n",
    "train_loader = torch.utils.data.DataLoader(train_dataset, batch_size=1028, shuffle=True)\n",
    "test_loader = torch.utils.data.DataLoader(test_dataset, batch_size=1028, shuffle=True)"
   ]
  },
  {
   "cell_type": "markdown",
   "id": "e108e1c7-a974-4cac-a2c4-54eb6ced9a14",
   "metadata": {},
   "source": [
    "## Model Architecture\n",
    "Hidden Units = 25\n",
    "\n",
    "Why 25 neurons? It's a sweet spot I found through experimentation:\n",
    "\n",
    "- Too few neurons (like 10) → The model struggles to learn patterns\n",
    "- Too many neurons (like 100) → Takes longer to train and might memorize instead of learn\n",
    "- 25 neurons → Just right for recognizing digit patterns!\n",
    "---\n",
    "\n",
    "For this project, I've designed a simple yet effective neural network with three layers. Think of it as a pipeline that processes the image through different stages:\n",
    "\n",
    "1. **Input Layer**: \n",
    "   - Takes our flattened 28×28 image (784 pixels)\n",
    "   - Each pixel becomes an input neuron\n",
    "\n",
    "2. **Hidden Layers**: \n",
    "   - Two layers with 25 neurons each\n",
    "   - ReLU activation for introducing non-linearity\n",
    "   - These layers learn to recognize different features of the digits\n",
    "\n",
    "3. **Output Layer**:\n",
    "   - 10 neurons (one for each digit)\n",
    "   - Gives us probabilities for each possible digit\n",
    "\n",
    "\n"
   ]
  },
  {
   "cell_type": "code",
   "execution_count": 4,
   "id": "1338ee04-a13c-4b5f-90ff-75aa8e3bfc63",
   "metadata": {},
   "outputs": [
    {
     "data": {
      "text/plain": [
       "MnistModal(\n",
       "  (layer_1): Linear(in_features=784, out_features=25, bias=True)\n",
       "  (layer_2): Linear(in_features=25, out_features=25, bias=True)\n",
       "  (layer_3): Linear(in_features=25, out_features=10, bias=True)\n",
       "  (relu): ReLU()\n",
       ")"
      ]
     },
     "execution_count": 4,
     "metadata": {},
     "output_type": "execute_result"
    }
   ],
   "source": [
    "class MnistModal(nn.Module):\n",
    "    def __init__(self):\n",
    "        super().__init__()\n",
    "        in_features = 784\n",
    "        hidden_units = 25\n",
    "        out_features = 10\n",
    "\n",
    "        self.layer_1 = nn.Linear(in_features=in_features, out_features=hidden_units)\n",
    "        self.layer_2 = nn.Linear(in_features=hidden_units, out_features=hidden_units)\n",
    "        self.layer_3 = nn.Linear(in_features=hidden_units, out_features=out_features)\n",
    "        self.relu = nn.ReLU()\n",
    "\n",
    "    def forward(self, x):\n",
    "        x = x.reshape(-1, 784)\n",
    "        x = self.layer_1(x)\n",
    "        x = self.relu(x)\n",
    "        x = self.layer_2(x)\n",
    "        x = self.relu(x)\n",
    "        x = self.layer_3(x)\n",
    "\n",
    "        return x\n",
    "\n",
    "model_0 = MnistModal().to(device)\n",
    "\n",
    "model_0"
   ]
  },
  {
   "cell_type": "markdown",
   "id": "38e7c9fa-9910-4880-a397-ddaecd3b64f1",
   "metadata": {},
   "source": [
    "## The Training Setup\n",
    "\n",
    "### Loss Function: CrossEntropyLoss\n",
    "Think of this as our AI's \"grading system\":\n",
    "- Perfect for classification tasks (like our digit recognition)\n",
    "- Combines softmax activation and negative log-likelihood\n",
    "- Helps the model understand how badly it messed up each guess\n",
    "\n",
    "### Optimizer: Adam\n",
    "- Learning rate = 0.02 (how big steps we take while learning)\n",
    "- Why Adam?\n",
    "    - Adapts the learning rate automatically\n",
    "    - Generally works better than basic SGD\n",
    "    - Handles different parameters at different scales well\n",
    "\n",
    "### Accuracy Metric: MulticlassAccuracy\n",
    "Our \"report card\":\n",
    "- Straightforward: number of correct predictions ÷ total predictions\n",
    "- Perfect for our 10-class problem\n",
    "- Gives us a clear percentage we can understand"
   ]
  },
  {
   "cell_type": "code",
   "execution_count": 5,
   "id": "d3327752-a55b-422e-a9ec-2f81072f113f",
   "metadata": {},
   "outputs": [
    {
     "data": {
      "text/plain": [
       "MulticlassAccuracy()"
      ]
     },
     "execution_count": 5,
     "metadata": {},
     "output_type": "execute_result"
    }
   ],
   "source": [
    "loss_fn = nn.CrossEntropyLoss()\n",
    "optimizer = torch.optim.Adam(model_0.parameters(), lr=0.02)\n",
    "\n",
    "from torchmetrics import Accuracy\n",
    "\n",
    "acc_fn = Accuracy(task=\"multiclass\", num_classes=10).to(device)\n",
    "acc_fn"
   ]
  },
  {
   "cell_type": "markdown",
   "id": "a584d27c-82f2-4a1b-ae41-5ace996d9fb3",
   "metadata": {},
   "source": [
    "## Untrained Model Prediction\n",
    "\n",
    "Let's start with a fun experiment! Before training our model, let's see how it performs on some sample data. Think of this like asking a toddler to read numbers before teaching them - the results should be interesting! \n",
    "\n",
    "Looking at our results:\n",
    "- Accuracy: 13.33%\n",
    "- Loss: 2.29\n",
    "- Model mostly predicted 4, 5, and 8\n",
    "\n",
    "This is exactly what we expected! Without any training, our model is just making random guesses. The 13.33% accuracy is actually close to random chance (10% for 10 digits). The high loss value (2.29) indicates how uncertain and incorrect these predictions are.\n",
    "\n",
    "This gives us a great baseline to compare against after training. It's like taking a \"before\" picture in a fitness journey - it'll make our progress much more apparent!"
   ]
  },
  {
   "cell_type": "code",
   "execution_count": 6,
   "id": "c649d664-4b4c-42b5-a3c2-90ea7fd58b7f",
   "metadata": {},
   "outputs": [
    {
     "name": "stdout",
     "output_type": "stream",
     "text": [
      "Pred labels: tensor([8, 5, 5, 4, 5, 4, 5, 5, 5, 4, 5, 4, 5, 5, 5, 5, 8, 5, 8, 5, 5, 5, 5, 5,\n",
      "        4, 5, 8, 5, 4, 5], device='cuda:0')\n",
      "Tarin labels: tensor([3, 9, 4, 3, 2, 0, 7, 7, 2, 1, 4, 0, 1, 5, 1, 9, 8, 0, 7, 6, 1, 5, 8, 4,\n",
      "        8, 2, 8, 9, 9, 4], device='cuda:0')\n",
      "Accuracy: tensor(0.1333, device='cuda:0')\n",
      "Loss: tensor(2.2932, device='cuda:0', grad_fn=<NllLossBackward0>)\n"
     ]
    }
   ],
   "source": [
    "train_features, train_labels = next(iter(train_loader))\n",
    "train_features, train_labels = train_features.to(device), train_labels.to(device)\n",
    "\n",
    "sample_size = 30\n",
    "\n",
    "y_logits = model_0(train_features[:sample_size])\n",
    "# print(\"Logits:\", y_logits.squeeze())\n",
    "\n",
    "y_pred_probs = torch.softmax(y_logits, dim=1)\n",
    "# print(\"Pred probs:\", y_pred_probs.squeeze())\n",
    "\n",
    "_, y_preds = torch.max(y_pred_probs, 1)\n",
    "#y_preds = y_pred_probs.argmax(dim=1)\n",
    "print(\"Pred labels:\", y_preds)\n",
    "print(\"Tarin labels:\", train_labels[:sample_size])\n",
    "\n",
    "accuracy = acc_fn(y_preds, train_labels[:sample_size])\n",
    "print(\"Accuracy:\", accuracy)\n",
    "\n",
    "loss = loss_fn(y_logits, train_labels[:sample_size])\n",
    "print(\"Loss:\", loss)"
   ]
  },
  {
   "cell_type": "code",
   "execution_count": 7,
   "id": "e2e2afda-b200-4625-b405-374818236711",
   "metadata": {},
   "outputs": [
    {
     "name": "stdout",
     "output_type": "stream",
     "text": [
      "Epoch: 10 | Loss: 0.13 Acc: 0.96 | Test loss: 0.15 Test acc: 0.96\n",
      "Epoch: 20 | Loss: 0.08 Acc: 0.97 | Test loss: 0.20 Test acc: 0.95\n",
      "Epoch: 30 | Loss: 0.08 Acc: 0.97 | Test loss: 0.27 Test acc: 0.95\n",
      "Epoch: 40 | Loss: 0.07 Acc: 0.98 | Test loss: 0.19 Test acc: 0.97\n",
      "Epoch: 50 | Loss: 0.11 Acc: 0.97 | Test loss: 0.26 Test acc: 0.95\n",
      "Epoch: 60 | Loss: 0.02 Acc: 0.99 | Test loss: 0.33 Test acc: 0.95\n",
      "Epoch: 70 | Loss: 0.06 Acc: 0.99 | Test loss: 0.33 Test acc: 0.95\n",
      "Epoch: 80 | Loss: 0.04 Acc: 0.99 | Test loss: 0.39 Test acc: 0.94\n",
      "Epoch: 90 | Loss: 0.04 Acc: 0.99 | Test loss: 0.38 Test acc: 0.95\n",
      "Epoch: 100 | Loss: 0.06 Acc: 0.98 | Test loss: 0.26 Test acc: 0.95\n"
     ]
    }
   ],
   "source": [
    "epochs = 100\n",
    "\n",
    "for epoch in range(1, epochs+1):\n",
    "    model_0.train()\n",
    "\n",
    "    for train_features, train_labels in train_loader:\n",
    "        train_features, train_labels = train_features.to(device), train_labels.to(device)\n",
    "\n",
    "        y_logits = model_0(train_features)\n",
    "        y_pred_probs = torch.softmax(y_logits, dim=1)\n",
    "        _, y_preds = torch.max(y_pred_probs, 1)\n",
    "        \n",
    "        acc = acc_fn(y_preds, train_labels)\n",
    "        loss = loss_fn(y_logits, train_labels)\n",
    "\n",
    "        optimizer.zero_grad()\n",
    "        loss.backward()\n",
    "\n",
    "        optimizer.step()\n",
    "\n",
    "\n",
    "        model_0.eval()\n",
    "\n",
    "    with torch.inference_mode():\n",
    "        for test_featues, test_labels in test_loader:\n",
    "            test_featues, test_labels = test_featues.to(device), test_labels.to(device)\n",
    "            \n",
    "            test_logits = model_0(test_featues)\n",
    "            test_pred_probs = torch.softmax(test_logits, dim=1)\n",
    "            _, test_preds = torch.max(test_pred_probs, 1)\n",
    "            \n",
    "            test_acc = acc_fn(test_preds, test_labels)\n",
    "            test_loss = loss_fn(test_logits, test_labels)\n",
    "    \n",
    "    # Print out what's happening every 10 epochs\n",
    "    if epoch % 10 == 0:\n",
    "        print(f\"Epoch: {epoch} | Loss: {loss:.2f} Acc: {acc:.2f} | Test loss: {test_loss:.2f} Test acc: {test_acc:.2f}\")    "
   ]
  },
  {
   "cell_type": "markdown",
   "id": "9512ab4a-5201-4e6d-9222-9f30cbdc7deb",
   "metadata": {},
   "source": [
    "## Results: How Well Did We Do?\n",
    "After all that training, our model achieved:\n",
    "- Training Accuracy: 98% (how well it knows the training data)\n",
    "- Test Accuracy: 95% (how well it handles new numbers)\n",
    "- Training Time: ~5 minutes on RTX 2080\n",
    "\n",
    "This means our AI can correctly identify 95 out of 100 new handwritten digits it's never seen before! Pretty impressive for a simple network, right?"
   ]
  },
  {
   "cell_type": "markdown",
   "id": "2c5c98ba-01fe-4865-86c2-fbb55d959b9e",
   "metadata": {},
   "source": [
    "## Sample Predictions"
   ]
  },
  {
   "cell_type": "code",
   "execution_count": 12,
   "id": "c8a4c802-32e9-41f9-833e-2fc1be5c3c58",
   "metadata": {},
   "outputs": [
    {
     "data": {
      "image/png": "[encoded data removed]",
      "text/plain": [
       "<Figure size 864x576 with 6 Axes>"
      ]
     },
     "metadata": {
      "needs_background": "light"
     },
     "output_type": "display_data"
    }
   ],
   "source": [
    "import matplotlib.pyplot as plt\n",
    "\n",
    "def plot_predictions(model, test_loader, device, n_samples=6):\n",
    "    \"\"\"\n",
    "    Plot random test images with their predictions and actual labels\n",
    "    \"\"\"\n",
    "    # Get a random batch\n",
    "    test_features, test_labels = next(iter(test_loader))\n",
    "    \n",
    "    # Get random indices\n",
    "    rand_idx = torch.randint(0, len(test_features), (n_samples,))\n",
    "    \n",
    "    # Get samples\n",
    "    samples = test_features[rand_idx].to(device)\n",
    "    labels = test_labels[rand_idx]\n",
    "    \n",
    "    # Get predictions\n",
    "    model.eval()\n",
    "    with torch.inference_mode():\n",
    "        logits = model(samples)\n",
    "        predictions = torch.softmax(logits, dim=1)\n",
    "        pred_labels = torch.argmax(predictions, dim=1)\n",
    "    \n",
    "    # Plot\n",
    "    fig, axes = plt.subplots(2, 3, figsize=(12, 8))\n",
    "    axes = axes.ravel()\n",
    "    \n",
    "    for idx in range(n_samples):\n",
    "        # Plot image\n",
    "        axes[idx].imshow(samples[idx].cpu().squeeze(), cmap='gray')\n",
    "        \n",
    "        # Add title with prediction and actual\n",
    "        title = f'Pred: {pred_labels[idx].item()}\\nTrue: {labels[idx].item()}'\n",
    "        axes[idx].set_title(title, color='green' if pred_labels[idx] == labels[idx] else 'red')\n",
    "        \n",
    "        # Remove axes\n",
    "        axes[idx].axis('off')\n",
    "    \n",
    "    plt.tight_layout()\n",
    "    plt.show()\n",
    "\n",
    "# Usage:\n",
    "plot_predictions(model_0, test_loader, device)"
   ]
  },
  {
   "cell_type": "markdown",
   "id": "f75a6447-da22-40b7-81ef-b58773e6dd44",
   "metadata": {},
   "source": [
    "Above are some sample predictions from our model. Green titles indicate correct predictions, while red shows where the model made mistakes. It's fascinating to see which digits the model finds tricky - sometimes they're the same ones humans might struggle with!"
   ]
  },
  {
   "cell_type": "markdown",
   "id": "2c76d446-b375-4221-a945-f7ab6d32276b",
   "metadata": {},
   "source": [
    "## Key Learnings\n",
    "\n",
    "1. **Simple Can Be Powerful**: With just three layers and 25 neurons each, we achieved 95% accuracy. This shows that complex problems don't always need complex solutions.\n",
    "\n",
    "2. **Consistent Performance**: Our model maintained steady accuracy across epochs, suggesting stable learning.\n",
    "\n",
    "3. **Quick Training**: The entire training process took about 5 minutes on an RTX 2080, making it practical for experimentation.\n"
   ]
  },
  {
   "cell_type": "markdown",
   "id": "d78c844d-f327-49c2-a1c0-30df28888e03",
   "metadata": {},
   "source": [
    "## What's Next?\n",
    "\n",
    "While 95% accuracy is impressive, there's always room for improvement. Here are some possible enhancements:\n",
    "\n",
    "1. Try Convolutional Neural Networks (CNNs)\n",
    "2. Experiment with different architectures\n",
    "3. Add data augmentation\n",
    "4. Implement dropout for better generalization"
   ]
  },
  {
   "cell_type": "markdown",
   "id": "7c36ad80-c909-43b2-853c-267ce1dfb27e",
   "metadata": {},
   "source": [
    "## Conclusion: What We Learned\n",
    "\n",
    "Building this digit classifier taught us some valuable lessons:\n",
    "\n",
    "- Simple architectures can be surprisingly effective\n",
    "- The importance of choosing the right hyperparameters\n",
    "- How different components (loss, optimizer, architecture) work together"
   ]
  }
 ],
 "metadata": {
  "kernelspec": {
   "display_name": "Python 3 (ipykernel)",
   "language": "python",
   "name": "python3"
  },
  "language_info": {
   "codemirror_mode": {
    "name": "ipython",
    "version": 3
   },
   "file_extension": ".py",
   "mimetype": "text/x-python",
   "name": "python",
   "nbconvert_exporter": "python",
   "pygments_lexer": "ipython3",
   "version": "3.10.12"
  }
 },
 "nbformat": 4,
 "nbformat_minor": 5
}
