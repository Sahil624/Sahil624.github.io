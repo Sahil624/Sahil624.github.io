{
 "cells": [
  {
   "cell_type": "markdown",
   "id": "7f0303b1",
   "metadata": {},
   "source": [
    "# Building a Text Classifier with PyTorch: A Deep Dive into AG News Dataset\n",
    "\n",
    "Hey everyone! I'm excited to share my journey into the fascinating world of text classification. As someone relatively new to deep learning, I recently embarked on a project to build a model that can categorize news articles. This blog post documents my exploration, using PyTorch and the popular AG News dataset. I'll be walking you through my process, from the initial setup and data wrangling to building the model and evaluating its performance. This is as much a learning experience for me as it is for you, so I'll be sharing my thought process, the challenges I encountered, and the little victories along the way!\n",
    "\n",
    "My goal is to not just build a functional classifier, but to truly understand *why* each piece of the puzzle works. If you're also diving into deep learning or simply curious about how text can be understood by machines, then join me as I unpack this project step by step. We'll cover the essential concepts of text classification, explore the power of neural networks, and learn how to build a practical model from scratch. Let's see how far we can go!"
   ]
  },
  {
   "cell_type": "markdown",
   "id": "b652cc02",
   "metadata": {},
   "source": [
    "## What is Text Classification (and Why Should I Care)?\n",
    "\n",
    "Text classification is basically the act of teaching a computer to automatically organize and sort through written text into different groups or categories. At first, I was kind of blown away by this idea – that machines can actually \"understand\" the meaning behind words!\n",
    "\n",
    "Think about all the ways this could be useful: categorizing customer reviews (positive or negative), filtering out spam emails, or like we're doing here – automatically labeling news articles by topic. Understanding how this works is a critical step to applying deep learning to text data. The model we will build will categorize news articles into the following four categories: World, Sports, Business, and Sci/Tech.\n",
    "\n",
    "\n",
    "### Why AG News Dataset?\n",
    "\n",
    "The AG News dataset was chosen because it's often used as a starting point for text classification. Its size and clear categories make it a nice balance between being complex enough to learn from and simple enough to not get lost in the details. For a beginner like me, this is the perfect playground to experiment with and start developing an intuition for this whole text classification thing. It also is readily available from the HuggingFace Dataset library, making it super accessible.\n",
    "\n",
    "<iframe\n",
    "  src=\"https://huggingface.co/datasets/wangrongsheng/ag_news/embed/viewer/default/train\"\n",
    "  frameborder=\"0\"\n",
    "  width=\"100%\"\n",
    "  height=\"560px\"\n",
    "></iframe>"
   ]
  },
  {
   "cell_type": "markdown",
   "id": "0254ed3b",
   "metadata": {},
   "source": [
    "## Setting up the Environment\n",
    "\n",
    "We'll be working with several essential libraries:\n",
    "\n",
    "-   **PyTorch:** A deep learning framework for building and training neural networks.\n",
    "-   **Datasets:** The Hugging Face `datasets` library for easy access to datasets.\n",
    "-   **Torchmetrics:** A library for evaluating models (accuracy)\n",
    "-   **Collections:** Used to implement counter for tokenization\n",
    "-   **Re**: used for regex operations for tokenizing"
   ]
  },
  {
   "cell_type": "code",
   "execution_count": 144,
   "id": "318f2f18-fb71-40b0-b35a-9e6b983a11c8",
   "metadata": {},
   "outputs": [],
   "source": [
    "import torch\n",
    "from torch import nn\n",
    "from datasets import load_dataset\n",
    "from torch.utils.data import DataLoader\n",
    "from collections import Counter\n",
    "import re"
   ]
  },
  {
   "cell_type": "markdown",
   "id": "9fc1008b",
   "metadata": {},
   "source": [
    "The initial step involves ensuring GPU availability. This code block leverages PyTorch to check and utilize the GPU for faster computation if it's available."
   ]
  },
  {
   "cell_type": "code",
   "execution_count": 145,
   "id": "c485e541",
   "metadata": {},
   "outputs": [
    {
     "name": "stdout",
     "output_type": "stream",
     "text": [
      "Will be using: cuda\n"
     ]
    }
   ],
   "source": [
    "# Setup device agnostic code\n",
    "device = 'cuda' if torch.cuda.is_available() else 'cpu'\n",
    "print(\"Will be using:\", device)"
   ]
  },
  {
   "cell_type": "markdown",
   "id": "6b06e5e7",
   "metadata": {},
   "source": [
    "We then download the dataset using the datasets library and extract class names. This will help in knowing the number of labels needed for the classification problem."
   ]
  },
  {
   "cell_type": "code",
   "execution_count": 146,
   "id": "11f4c6e8-db22-4495-8b77-5a55181780a3",
   "metadata": {},
   "outputs": [
    {
     "data": {
      "text/plain": [
       "['World', 'Sports', 'Business', 'Sci/Tech']"
      ]
     },
     "execution_count": 146,
     "metadata": {},
     "output_type": "execute_result"
    }
   ],
   "source": [
    "ag_news_dataset = load_dataset('wangrongsheng/ag_news')\n",
    "classes = ag_news_dataset['train'].features['label'].names\n",
    "classes"
   ]
  },
  {
   "cell_type": "markdown",
   "id": "d0c76a2e",
   "metadata": {},
   "source": [
    "## Preprocessing the Text Data\n",
    "Preprocessing is a critical step. Text data is raw and must be prepared for the model to ingest. Here's how we approach it:"
   ]
  },
  {
   "cell_type": "markdown",
   "id": "26d0aa92",
   "metadata": {},
   "source": [
    "\n",
    "### Simple Tokenization\n",
    "We begin by defining a basic tokenizer function:"
   ]
  },
  {
   "cell_type": "code",
   "execution_count": 147,
   "id": "59e424eb-c4a1-4821-999c-b116ff1ea83d",
   "metadata": {},
   "outputs": [],
   "source": [
    "# Simple tokenizer function\n",
    "def simple_tokenizer(text):\n",
    "    # Convert to lowercase and split on whitespace and punctuation\n",
    "    return re.findall(r'\\w+', text.lower())"
   ]
  },
  {
   "cell_type": "markdown",
   "id": "4b7e8416",
   "metadata": {},
   "source": [
    "This function converts text to lowercase and splits it based on whitespace and punctuation using regular expressions. This creates basic token, or words that the model can use."
   ]
  },
  {
   "cell_type": "markdown",
   "id": "52506dfb",
   "metadata": {},
   "source": [
    "### Vocabulary Building\n",
    "\n",
    "The next crucial part is to build a vocabulary to map each word in the dataset to a unique index. This helps convert text to sequences of numbers."
   ]
  },
  {
   "cell_type": "code",
   "execution_count": 148,
   "id": "6e21232b",
   "metadata": {},
   "outputs": [
    {
     "name": "stdout",
     "output_type": "stream",
     "text": [
      "Building vocabulary...\n",
      "Vocabulary size: 40000\n"
     ]
    }
   ],
   "source": [
    "# Modified vocabulary building function\n",
    "def build_vocabulary(dataset, max_size=40000):\n",
    "    word_counts = Counter()\n",
    "    # Special tokens\n",
    "    special_tokens = ['<PAD>', '<UNK>']\n",
    "    \n",
    "    # Count all words\n",
    "    print(\"Building vocabulary...\")\n",
    "    for item in dataset:\n",
    "        tokens = simple_tokenizer(item['text'])\n",
    "        word_counts.update(tokens)\n",
    "    \n",
    "    # Get most common words\n",
    "    most_common = [word for word, _ in word_counts.most_common(max_size - len(special_tokens))]\n",
    "    vocab = special_tokens + most_common\n",
    "    word2idx = {word: idx for idx, word in enumerate(vocab)}\n",
    "    \n",
    "    return word2idx, len(word2idx)\n",
    "\n",
    "word2idx, VOCAB_SIZE = build_vocabulary(ag_news_dataset['train'])\n",
    "print(f\"Vocabulary size: {VOCAB_SIZE}\")"
   ]
  },
  {
   "cell_type": "markdown",
   "id": "4dd91d02",
   "metadata": {},
   "source": [
    "This function counts word frequencies, takes the most frequent words, and creates a mapping. Special <PAD> (padding) and <UNK> (unknown) tokens are also added. We use these special tokens for handling sequence variability when training the model."
   ]
  },
  {
   "cell_type": "markdown",
   "id": "0e16cbab",
   "metadata": {},
   "source": [
    "### Creating DataLoaders\n",
    "\n",
    "The collate_fn function is a function that processes data and prepares it in a way the model can accept."
   ]
  },
  {
   "cell_type": "code",
   "execution_count": 149,
   "id": "b9153e26",
   "metadata": {},
   "outputs": [],
   "source": [
    "\n",
    "# Modified collate function\n",
    "def collate_fn(batch, max_length=128):\n",
    "    texts = [item['text'] for item in batch]\n",
    "    labels = torch.tensor([item['label'] for item in batch])\n",
    "    \n",
    "    # Tokenize and convert to indices\n",
    "    sequences = []\n",
    "    for text in texts:\n",
    "        tokens = simple_tokenizer(text)[:max_length]\n",
    "        # Use the PAD and UNK tokens we defined\n",
    "        indices = [word2idx.get(token, word2idx['<UNK>']) for token in tokens]\n",
    "        padding = [word2idx['<PAD>']] * (max_length - len(indices))\n",
    "        indices.extend(padding)\n",
    "        sequences.append(indices[:max_length])\n",
    "    \n",
    "    return torch.tensor(sequences), labels"
   ]
  },
  {
   "cell_type": "markdown",
   "id": "f4548fc5",
   "metadata": {},
   "source": [
    "This function converts tokenized texts to sequences of indices, performs padding to ensure consistent sequence length."
   ]
  },
  {
   "cell_type": "markdown",
   "id": "f8e89b38",
   "metadata": {},
   "source": [
    "For training the model, we need to feed the data in batches. The following creates dataloaders for both training and test data."
   ]
  },
  {
   "cell_type": "code",
   "execution_count": 150,
   "id": "700f8d48",
   "metadata": {},
   "outputs": [
    {
     "data": {
      "text/plain": [
       "(tensor([[ 3058,   621,    98,  ...,     0,     0,     0],\n",
       "         [  752,  2530,   154,  ...,     0,     0,     0],\n",
       "         [ 1428,   662,   685,  ...,     0,     0,     0],\n",
       "         ...,\n",
       "         [10564,   115,  2316,  ...,     0,     0,     0],\n",
       "         [   40,   116,     5,  ...,     0,     0,     0],\n",
       "         [17210,  2379,     3,  ...,     0,     0,     0]]),\n",
       " tensor([1, 0, 0, 0, 2, 0, 3, 1, 2, 3, 1, 0, 1, 0, 2, 0, 1, 3, 3, 1, 3, 0, 0, 3,\n",
       "         0, 2, 3, 2, 2, 0, 3, 1, 2, 1, 0, 1, 1, 0, 3, 2, 1, 2, 3, 3, 2, 2, 0, 1,\n",
       "         3, 2, 3, 3, 3, 0, 0, 0, 0, 3, 3, 3, 3, 3, 2, 1, 0, 1, 3, 0, 1, 3, 1, 3,\n",
       "         1, 3, 1, 0, 2, 3, 2, 0, 2, 2, 1, 1, 3, 1, 2, 3, 3, 1, 2, 3, 2, 1, 0, 1,\n",
       "         0, 1, 2, 1, 2, 2, 0, 0, 1, 2, 2, 2, 0, 2, 1, 2, 3, 1, 2, 0, 0, 0, 1, 1,\n",
       "         3, 3, 1, 2, 3, 1, 1, 2]))"
      ]
     },
     "execution_count": 150,
     "metadata": {},
     "output_type": "execute_result"
    }
   ],
   "source": [
    "BATCH_SIZE = 128\n",
    "train_dataloader = DataLoader(ag_news_dataset['train'], batch_size=BATCH_SIZE, collate_fn=collate_fn, shuffle=True)\n",
    "test_dataloader = DataLoader(ag_news_dataset['test'], batch_size=BATCH_SIZE, collate_fn=collate_fn)\n",
    "next(iter(train_dataloader))"
   ]
  },
  {
   "cell_type": "markdown",
   "id": "a30b7ada",
   "metadata": {},
   "source": [
    "## Model Architecture\n",
    "\n",
    "The model, called AgNewsModal, employs a neural network with these features:\n",
    "\n",
    "* Embedding Layer: Converts input tokens to dense vector embeddings.\n",
    "\n",
    "* LSTM Layer: A recurrent neural network that processes sequences of data. We use a bidirectional LSTM to understand the information from both directions of the text.\n",
    "\n",
    "* Linear Layers: We added a layer that includes a BatchNorm1d layer, ReLU activation, and a dropout layer.\n",
    "\n",
    "* Classifier Layer: A final linear layer that maps the processed features to the output classes."
   ]
  },
  {
   "cell_type": "code",
   "execution_count": 151,
   "id": "1539f365-1cde-4796-aa99-7a237cd2687c",
   "metadata": {},
   "outputs": [
    {
     "data": {
      "text/plain": [
       "AgNewsModal(\n",
       "  (embedding): Embedding(40000, 128)\n",
       "  (lstm): LSTM(128, 64, num_layers=2, batch_first=True, dropout=0.3, bidirectional=True)\n",
       "  (layers): Sequential(\n",
       "    (0): Linear(in_features=128, out_features=64, bias=True)\n",
       "    (1): BatchNorm1d(64, eps=1e-05, momentum=0.1, affine=True, track_running_stats=True)\n",
       "    (2): ReLU()\n",
       "    (3): Dropout(p=0.3, inplace=False)\n",
       "  )\n",
       "  (classifier): Linear(in_features=64, out_features=4, bias=True)\n",
       ")"
      ]
     },
     "execution_count": 151,
     "metadata": {},
     "output_type": "execute_result"
    }
   ],
   "source": [
    "class AgNewsModal(nn.Module):\n",
    "    \"\"\"\n",
    "    AgNewsModal is a neural network model designed for text classification tasks, specifically for the AG News dataset.\n",
    "    Args:\n",
    "        num_emb (int): The size of the vocabulary (number of unique tokens).\n",
    "        output_size (int): The number of output classes.\n",
    "        num_layers (int, optional): The number of LSTM layers. Default is 2.\n",
    "        hidden_size (int, optional): The number of features in the hidden state of the LSTM. Default is 128.\n",
    "        dropout_rate (float, optional): The dropout rate to be applied in the LSTM and fully connected layers. Default is 0.3.\n",
    "    Attributes:\n",
    "        embedding (nn.Embedding): Embedding layer that converts input tokens to dense vectors.\n",
    "        lstm (nn.LSTM): LSTM layer for sequential processing of the embedded tokens.\n",
    "        layers (nn.Sequential): A sequence of layers including Linear, BatchNorm1d, ReLU, and Dropout for further processing.\n",
    "        classifier (nn.Linear): Linear layer that maps the processed features to the output classes.\n",
    "    Methods:\n",
    "        forward(x):\n",
    "            Defines the forward pass of the model.\n",
    "            Args:\n",
    "                x (torch.Tensor): Input tensor of shape [batch, seq_len].\n",
    "            Returns:\n",
    "                torch.Tensor: Output tensor of shape [batch, output_size] containing the class scores.\n",
    "    \"\"\"\n",
    "    def __init__(self,num_emb, output_size, num_layers=2, hidden_size=128, dropout_rate=0.3):\n",
    "        super().__init__()\n",
    "        self.embedding = nn.Embedding(num_emb, hidden_size)\n",
    "        \n",
    "        # Add LSTM for sequential processing\n",
    "        self.lstm = nn.LSTM(\n",
    "            hidden_size, \n",
    "            hidden_size//2, \n",
    "            num_layers=num_layers, \n",
    "            batch_first=True, \n",
    "            bidirectional=True,\n",
    "            dropout=dropout_rate\n",
    "        )\n",
    "        \n",
    "        self.layers = nn.Sequential(\n",
    "            nn.Linear(hidden_size, hidden_size//2),\n",
    "            nn.BatchNorm1d(hidden_size//2),\n",
    "            nn.ReLU(),\n",
    "            nn.Dropout(dropout_rate)\n",
    "        )\n",
    "        \n",
    "        self.classifier = nn.Linear(hidden_size//2, output_size)\n",
    "    \n",
    "    def forward(self, x):\n",
    "        x = self.embedding(x)          # [batch, seq_len, hidden_size]\n",
    "        x, _ = self.lstm(x)           # [batch, seq_len, hidden_size]\n",
    "        x = x.mean(dim=1)             # [batch, hidden_size]\n",
    "        x = self.layers(x)            # [batch, hidden_size//2]\n",
    "        x = self.classifier(x)        # [batch, output_size]\n",
    "        return x\n",
    "    \n",
    "model_0 = AgNewsModal(len(word2idx), len(classes))\n",
    "model_0"
   ]
  },
  {
   "cell_type": "markdown",
   "id": "ee34a400",
   "metadata": {},
   "source": [
    "The forward pass sends the data through the layers mentioned."
   ]
  },
  {
   "cell_type": "markdown",
   "id": "b36797f9",
   "metadata": {},
   "source": [
    "## Training and Evaluation\n",
    "With the model architecture in place, we will now discuss about how we are going to train and evaluate the model."
   ]
  },
  {
   "cell_type": "markdown",
   "id": "fdaca87e",
   "metadata": {},
   "source": [
    "### Training Setup\n",
    "The training phase is set up using these important components."
   ]
  },
  {
   "cell_type": "code",
   "execution_count": 152,
   "id": "9b73bbcb",
   "metadata": {},
   "outputs": [],
   "source": [
    "from torchmetrics import Accuracy\n",
    "\n",
    "acc_fn = Accuracy(task=\"multiclass\", num_classes=10).to(device)\n",
    "loss_fn = nn.CrossEntropyLoss()\n",
    "optimizer = torch.optim.Adam(model_0.parameters(), lr=0.02)"
   ]
  },
  {
   "cell_type": "markdown",
   "id": "0c104c89",
   "metadata": {},
   "source": [
    "We set up an accuracy metric, loss function, and the optimizer used for training."
   ]
  },
  {
   "cell_type": "markdown",
   "id": "196e4262",
   "metadata": {},
   "source": [
    "### Training and Test Step\n",
    "\n",
    "The next part is writing the function that will be used for training and testing."
   ]
  },
  {
   "cell_type": "code",
   "execution_count": 153,
   "id": "4cd880d3",
   "metadata": {},
   "outputs": [],
   "source": [
    "def train_step(model: torch.nn.Module,\n",
    "               data_loader: torch.utils.data.DataLoader,\n",
    "               loss_fn: torch.nn.Module,\n",
    "               optimizer: torch.optim.Optimizer,\n",
    "               accuracy_fn,\n",
    "               device: torch.device = device):\n",
    "    train_loss, train_acc = 0, 0\n",
    "    model.to(device)\n",
    "\n",
    "    model.train()\n",
    "    for batch, (X, y) in enumerate(data_loader):\n",
    "        X, y = X.to(device), y.to(device)\n",
    "        y_pred = model(X)\n",
    "        loss = loss_fn(y_pred, y)\n",
    "        acc = accuracy_fn(y_pred.argmax(dim=1), y)\n",
    "        \n",
    "        train_loss += loss\n",
    "        train_acc += acc\n",
    "\n",
    "        optimizer.zero_grad()\n",
    "        loss.backward()\n",
    "        optimizer.step()\n",
    "        \n",
    "        # Print out how many samples have been seen\n",
    "        if batch % 400 == 0:\n",
    "            print(f\"Looked at {batch * len(X)}/{len(train_dataloader.dataset)} samples\")\n",
    "\n",
    "    # Calculate loss and accuracy per epoch and print out what's happening\n",
    "    train_loss /= len(data_loader)\n",
    "    train_acc /= len(data_loader)\n",
    "    print(f\"Train loss: {train_loss:.5f} | Train accuracy: {train_acc:.2f}%\")\n",
    "\n",
    "def test_step(data_loader: torch.utils.data.DataLoader,\n",
    "              model: torch.nn.Module,\n",
    "              loss_fn: torch.nn.Module,\n",
    "              accuracy_fn,\n",
    "              device: torch.device = device):\n",
    "    test_loss, test_acc = 0, 0\n",
    "    model.to(device)\n",
    "    model.eval() # put model in eval mode\n",
    "    # Turn on inference context manager\n",
    "    with torch.inference_mode(): \n",
    "        for X, y in data_loader:\n",
    "            # Send data to GPU\n",
    "            X, y = X.to(device), y.to(device)\n",
    "            \n",
    "            # 1. Forward pass\n",
    "            test_pred = model(X)\n",
    "            \n",
    "            # 2. Calculate loss and accuracy\n",
    "            test_loss += loss_fn(test_pred, y)\n",
    "            test_acc += accuracy_fn(test_pred.argmax(dim=1), y)\n",
    "        \n",
    "        # Adjust metrics and print out\n",
    "        test_loss /= len(data_loader)\n",
    "        test_acc /= len(data_loader)\n",
    "        print(f\"Test loss: {test_loss:.5f} | Test accuracy: {test_acc:.2f}%\\n\")"
   ]
  },
  {
   "cell_type": "markdown",
   "id": "37070ca8",
   "metadata": {},
   "source": [
    "These function will train and test the data using the model and will return results based on the data."
   ]
  },
  {
   "cell_type": "markdown",
   "id": "9dfdd36b",
   "metadata": {},
   "source": [
    "### Model Evaluation\n",
    "The last piece is evaluating the model using the test set.\n",
    "\n",
    "This function calculates and prints metrics for model performance."
   ]
  },
  {
   "cell_type": "code",
   "execution_count": 154,
   "id": "d5bbc3c7",
   "metadata": {},
   "outputs": [],
   "source": [
    "def eval_model(model: torch.nn.Module, \n",
    "               data_loader: torch.utils.data.DataLoader, \n",
    "               loss_fn: torch.nn.Module, \n",
    "               accuracy_fn):\n",
    "    \"\"\"Returns a dictionary containing the results of model predicting on data_loader.\n",
    "\n",
    "    Args:\n",
    "        model (torch.nn.Module): A PyTorch model capable of making predictions on data_loader.\n",
    "        data_loader (torch.utils.data.DataLoader): The target dataset to predict on.\n",
    "        loss_fn (torch.nn.Module): The loss function of model.\n",
    "        accuracy_fn: An accuracy function to compare the models predictions to the truth labels.\n",
    "\n",
    "    Returns:\n",
    "        (dict): Results of model making predictions on data_loader.\n",
    "    \"\"\"\n",
    "    loss, acc = 0, 0\n",
    "    model.eval()\n",
    "    with torch.inference_mode():\n",
    "        for X, y in data_loader:\n",
    "            X, y = X.to(device), y.to(device)\n",
    "            # Make predictions with the model\n",
    "            y_pred = model(X)\n",
    "            \n",
    "            # Accumulate the loss and accuracy values per batch\n",
    "            loss += loss_fn(y_pred, y)\n",
    "            acc += accuracy_fn(y_pred.argmax(dim=1), y) # For accuracy, need the prediction labels (logits -> pred_prob -> pred_labels)\n",
    "        \n",
    "        # Scale loss and acc to find the average loss/acc per batch\n",
    "        loss /= len(data_loader)\n",
    "        acc /= len(data_loader)\n",
    "        \n",
    "    return {\n",
    "            \"model_name\": model.__class__.__name__, # only works when model was created with a class\n",
    "            \"model_loss\": loss.item(),\n",
    "            \"model_acc\": acc.item()\n",
    "        }"
   ]
  },
  {
   "cell_type": "markdown",
   "id": "afd99c98",
   "metadata": {},
   "source": [
    "### Running Training\n",
    "This section of code loops through the number of epochs and calls the function for training and testing."
   ]
  },
  {
   "cell_type": "code",
   "execution_count": 155,
   "id": "4bcfffd8",
   "metadata": {},
   "outputs": [
    {
     "name": "stdout",
     "output_type": "stream",
     "text": [
      "Epoch: 0\n",
      "---------\n",
      "Looked at 0/120000 samples\n",
      "Looked at 51200/120000 samples\n",
      "Looked at 102400/120000 samples\n",
      "Train loss: 0.34499 | Train accuracy: 0.88%\n",
      "Test loss: 0.29629 | Test accuracy: 0.91%\n",
      "\n",
      "Epoch: 1\n",
      "---------\n",
      "Looked at 0/120000 samples\n",
      "Looked at 51200/120000 samples\n",
      "Looked at 102400/120000 samples\n",
      "Train loss: 0.23752 | Train accuracy: 0.92%\n",
      "Test loss: 0.27870 | Test accuracy: 0.91%\n",
      "\n",
      "Epoch: 2\n",
      "---------\n",
      "Looked at 0/120000 samples\n",
      "Looked at 51200/120000 samples\n",
      "Looked at 102400/120000 samples\n",
      "Train loss: 0.23524 | Train accuracy: 0.92%\n",
      "Test loss: 0.33398 | Test accuracy: 0.89%\n",
      "\n"
     ]
    }
   ],
   "source": [
    "\n",
    "epochs = 3\n",
    "for epoch in range(epochs):\n",
    "    print(f\"Epoch: {epoch}\\n---------\")\n",
    "    train_step(data_loader=train_dataloader, \n",
    "        model=model_0, \n",
    "        loss_fn=loss_fn,\n",
    "        optimizer=optimizer,\n",
    "        accuracy_fn=acc_fn\n",
    "    )\n",
    "    test_step(data_loader=test_dataloader,\n",
    "        model=model_0,\n",
    "        loss_fn=loss_fn,\n",
    "        accuracy_fn=acc_fn\n",
    "    )"
   ]
  },
  {
   "cell_type": "markdown",
   "id": "71eafa5a",
   "metadata": {},
   "source": [
    "## Results and Conclusion\n",
    "The training resulted in these results:"
   ]
  },
  {
   "cell_type": "code",
   "execution_count": 156,
   "id": "7bc8e8ec",
   "metadata": {},
   "outputs": [
    {
     "data": {
      "text/plain": [
       "{'model_name': 'AgNewsModal',\n",
       " 'model_loss': 0.33398252725601196,\n",
       " 'model_acc': 0.8918403387069702}"
      ]
     },
     "execution_count": 156,
     "metadata": {},
     "output_type": "execute_result"
    }
   ],
   "source": [
    "model_0_results = eval_model(model=model_0, data_loader=test_dataloader,\n",
    "    loss_fn=loss_fn, accuracy_fn=acc_fn\n",
    ")\n",
    "model_0_results"
   ]
  },
  {
   "cell_type": "markdown",
   "id": "c47f2f24",
   "metadata": {},
   "source": [
    "The model achieved an above accuracy, indicating effective learning from the dataset. We also visualize the performance of the model using the confusion matrix to better understand how the model performs."
   ]
  },
  {
   "cell_type": "code",
   "execution_count": 157,
   "id": "088cee88",
   "metadata": {},
   "outputs": [
    {
     "data": {
      "image/png": "[encoded data removed]",
      "text/plain": [
       "<Figure size 640x480 with 2 Axes>"
      ]
     },
     "metadata": {},
     "output_type": "display_data"
    }
   ],
   "source": [
    "from sklearn.metrics import confusion_matrix, ConfusionMatrixDisplay\n",
    "\n",
    "import matplotlib.pyplot as plt\n",
    "\n",
    "# Get predictions and true labels\n",
    "all_preds = []\n",
    "all_labels = []\n",
    "\n",
    "model_0.eval()\n",
    "with torch.inference_mode():\n",
    "    for X, y in test_dataloader:\n",
    "        X, y = X.to(device), y.to(device)\n",
    "        y_pred = model_0(X)\n",
    "        all_preds.extend(y_pred.argmax(dim=1).cpu().numpy())\n",
    "        all_labels.extend(y.cpu().numpy())\n",
    "\n",
    "# Compute confusion matrix\n",
    "cm = confusion_matrix(all_labels, all_preds)\n",
    "\n",
    "# Plot confusion matrix\n",
    "disp = ConfusionMatrixDisplay(confusion_matrix=cm, display_labels=classes)\n",
    "disp.plot(cmap=plt.cm.Blues)\n",
    "plt.show()"
   ]
  },
  {
   "cell_type": "markdown",
   "id": "4aa2a51e",
   "metadata": {},
   "source": [
    "Conflusion"
   ]
  }
 ],
 "metadata": {
  "kernelspec": {
   "display_name": ".venv",
   "language": "python",
   "name": "python3"
  },
  "language_info": {
   "codemirror_mode": {
    "name": "ipython",
    "version": 3
   },
   "file_extension": ".py",
   "mimetype": "text/x-python",
   "name": "python",
   "nbconvert_exporter": "python",
   "pygments_lexer": "ipython3",
   "version": "3.10.12"
  }
 },
 "nbformat": 4,
 "nbformat_minor": 5
}
